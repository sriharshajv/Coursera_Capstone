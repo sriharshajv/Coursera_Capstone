{
    "cells": [
        {
            "cell_type": "markdown",
            "metadata": {
                "collapsed": true
            },
            "source": "# Data Science Capstone Project - The Next Adventure"
        },
        {
            "cell_type": "markdown",
            "metadata": {},
            "source": "## Introduction/Business Problem\n### With nearly 200 countries/territories, each with its own unique draw, how can we help a person choose their next adventure?\n### Factors in choosing the next location:\n1. Preference: A person might choose the next excursion for a variety of reasons: nature/beaches, food scene, nightlife, historical significance,   cultural diversity\n2. Similarities to or differences from previous travels\n3. Knowledge of options: Not knowing the options or having to choose between a multitude of options\n4. Price and accessibility"
        },
        {
            "cell_type": "markdown",
            "metadata": {},
            "source": "## Scope/Deliverable, Data Availability, and Assumptions\n\n### Scope/Deliverable\nThe scope for this problem can be very grand and complicated based on the level of the sophistication. For example, we can take all the cities across the world, and analyze each city for its venues, reviews, and costs.\n\nTo simplify the problem for this project, I will take a subset of places across the world and cluster them based on the top 10 venues. This will provide a simple color-coded map, which we can use to analyze our past choices (have we been inclined to a certain cluster of locations) and the choices available to us (is there something similar, different, or new).\n\n### Data Availability:\n1. I will use these capital cities as the representative city for each country. It is easy to find a list of national capitals on wikipedia: https://en.wikipedia.org/wiki/List_of_national_capitals\n2. The latitude and longitude data will be obtained using Geopy.\n3. Foursquare API venue data (venues, categoris of venues) should be available for many of the capital cities. \n3. Price and accessibility: While the pricing of venues could be implemented, it does not appear to be free (premium API endpoint, Venue Details), so it will be excluded.\n\n### Assumptions\n1. The chosen city is representative of the country. This is a big generalization, and each of the countries may be very different than the chosen cities.\n2. The data available for each of the cities is accurately representing that city. This may not be true depending on how exhaustive the Foursquare API data is.\n3. While I will clean up some of the data and unify the categories, it is challenging to unify/clean up all the data and categories. In addition, we lose some of the uniqueness when unifying the categories."
        },
        {
            "cell_type": "code",
            "execution_count": null,
            "metadata": {},
            "outputs": [],
            "source": ""
        }
    ],
    "metadata": {
        "kernelspec": {
            "display_name": "Python 3.6",
            "language": "python",
            "name": "python3"
        },
        "language_info": {
            "codemirror_mode": {
                "name": "ipython",
                "version": 3
            },
            "file_extension": ".py",
            "mimetype": "text/x-python",
            "name": "python",
            "nbconvert_exporter": "python",
            "pygments_lexer": "ipython3",
            "version": "3.6.9"
        }
    },
    "nbformat": 4,
    "nbformat_minor": 1
}